{
 "cells": [
  {
   "cell_type": "markdown",
   "metadata": {},
   "source": [
    "1.- Implementar una función que recibe una cadena de texto, sin números, evaluá si tiene caracteres repetidos adyacentes y los remplaza con el número de veces que se repite. Ejemplo: “FfFffrrdxyra” ==>> “f5r2dxyra” Si la cadena es vacía o null, devolverá un mensaje indicando el particular."
   ]
  },
  {
   "cell_type": "code",
   "execution_count": 6,
   "metadata": {},
   "outputs": [
    {
     "name": "stdout",
     "output_type": "stream",
     "text": [
      "f5r2drx3yr2yañ3\n",
      "f5r2drx3yr2yañ3\n",
      "f5r2drx3yr2yañ3\n",
      "f5r2drx3yr2yañ3\n",
      "f5r2drx3yr2yañ3\n",
      "f5r2drx3yr2yañ3\n",
      "f5r2drx3yr2yañ3\n",
      "f5r2drx3yr2yañ3\n",
      "f5r2drx3yr2yañ3\n",
      "f5r2drx3yr2yañ3\n",
      "f5r2drx3yr2yañ3\n",
      "f5r2drx3yr2yañ3\n",
      "f5r2drx3yr2yañ3\n",
      "f5r2drx3yr2yañ3\n",
      "f5r2drx3yr2yañ3\n",
      "f5r2drx3yr2yañ3\n",
      "f5r2drx3yr2yañ3\n",
      "f5r2drx3yr2yañ3\n",
      "f5r2drx3yr2yañ3\n",
      "f5r2drx3yr2yañ3\n"
     ]
    }
   ],
   "source": [
    "cadena = 'FfFffrrdrxxxyrryañññ'\n",
    "\n",
    "def validar(texto):\n",
    "    for caracter in texto:\n",
    "        aux = ord(caracter)\n",
    "        if aux == 241 or aux == 209 or aux >= 65 and aux <= 90 or aux >= 97 and aux <= 122:\n",
    "            palabra = ''\n",
    "            for letra in texto:\n",
    "                codigo = ord(letra)\n",
    "                if codigo >= 65 and codigo <= 90 or codigo == 209:\n",
    "                    palabra += chr(codigo + 32)\n",
    "                else:\n",
    "                    palabra += chr(codigo)\n",
    "            buscar(palabra,0,1,1,'')\n",
    "        else:\n",
    "            print('La cadena contiene números o caracteres especiales')\n",
    "            \n",
    "def buscar(text,x,y,cont,resultado):\n",
    "    if y < len(text):\n",
    "        if text[x] == text[y]:\n",
    "            cont += 1\n",
    "            y += 1\n",
    "            buscar(text,x,y,cont,resultado)\n",
    "            \n",
    "        else:\n",
    "            resultado += text[x]\n",
    "            if cont > 1:\n",
    "                resultado += str(cont)\n",
    "            x = y\n",
    "            y += 1\n",
    "            cont = 1\n",
    "            buscar(text,x,y,cont,resultado)\n",
    "            \n",
    "    else:\n",
    "        resultado += text[x]\n",
    "        if cont > 1:\n",
    "            resultado += str(cont)\n",
    "        print(resultado)\n",
    "        \n",
    "validar(cadena)"
   ]
  },
  {
   "cell_type": "markdown",
   "metadata": {},
   "source": [
    "2.- Implementar una función que recibe una cadena de texto y lo invierte, colocando los primeros caracteres de cada palabra en mayúsculas. Ejemplo: “hola mundo es reemplazado por hola virus” ==>> “Suriv Aloh Rop Odazalpmeer Se Odnum Aloh” Si la cadena es vacía o null, devolverá un mensaje indicando el particular."
   ]
  },
  {
   "cell_type": "code",
   "execution_count": 1,
   "metadata": {},
   "outputs": [
    {
     "name": "stdout",
     "output_type": "stream",
     "text": [
      "hola mundo es reemplazado por hola virus\n",
      "Suriv Aloh Rop Odazalpmeer Se Odnum Aloh\n"
     ]
    }
   ],
   "source": [
    "texto = 'hola mundo es reemplazado por hola virus'\n",
    "resultado = ''\n",
    "\n",
    "if texto == '' or texto == None:\n",
    "    print('El texto tiene algún caracter nulo o vacío por favor corregir')\n",
    "else:\n",
    "    for item in range(1,len(texto)+1):\n",
    "        if texto[item - 1].isdigit():\n",
    "            print('La variable contiene números, por favor cambiela')\n",
    "            bandera = False\n",
    "            break\n",
    "        else:\n",
    "            if item == 1 or bandera:\n",
    "                resultado += chr(ord(texto[len(texto) - item]) - 32)\n",
    "                bandera = False\n",
    "            else:\n",
    "                resultado += texto[len(texto) - item]\n",
    "                if texto[len(texto) - item] == ' ':\n",
    "                    bandera = True\n",
    "    print(texto)\n",
    "    print(resultado)"
   ]
  },
  {
   "cell_type": "markdown",
   "metadata": {},
   "source": [
    "3.- Implementar una función que recibe una cadena de texto que incluya números, deberá sumar todos los números que encuentre en la cadena, números adyacentes se considera un solo número. Ejemplo: “Son 4 casa que están en la calle 66 en las que viven 89 personas con 2 hijos” 4 + 66 + 89 = 161"
   ]
  },
  {
   "cell_type": "code",
   "execution_count": 4,
   "metadata": {},
   "outputs": [
    {
     "name": "stdout",
     "output_type": "stream",
     "text": [
      "el resultado es 161\n"
     ]
    }
   ],
   "source": [
    "cadena = \"Son 4 casa que están en la calle 66 en las que viven 89 personas con 2 hijos\"\n",
    "resultado = []\n",
    "acumulador = []\n",
    "\n",
    "def iterar(inicio, fin):\n",
    "    if fin > inicio:\n",
    "        if cadena[inicio].isdigit():\n",
    "            concatenar(inicio)\n",
    "        else:\n",
    "            inicio += 1\n",
    "            iterar(inicio, len(cadena))\n",
    "    elif fin == inicio:\n",
    "        suma = 0\n",
    "        for item in resultado:\n",
    "            suma += int(item)\n",
    "        print(f\"el resultado es {suma}\")\n",
    "            \n",
    "        \n",
    "def concatenar(posicion):\n",
    "    acumulador.append(cadena[posicion])\n",
    "    posicion += 1\n",
    "    if cadena[posicion].isdigit():\n",
    "        concatenar(posicion)\n",
    "    else:\n",
    "        concat = \"\"\n",
    "        for item in acumulador:\n",
    "            concat += str(item)\n",
    "        resultado.append(concat)\n",
    "        acumulador.clear()\n",
    "        concat = \"\"\n",
    "        posicion += 1\n",
    "        iterar(posicion, len(cadena))\n",
    "        \n",
    "        \n",
    "iterar(0, len(cadena))"
   ]
  },
  {
   "cell_type": "markdown",
   "metadata": {},
   "source": [
    "4.- Mira esta serie: 7, 6, 8, 4, 9, 2, 10, 0, 11, -2, ... Cree una función que reciba dos enteros: x e y. Si alguno de ellos es 0 o negativo, o si son mayores al número de elementos, la función debería devolver -1 De lo contrario, la función debería devolver la suma de los elementos x e y de la serie. Por ejemplo: si la función recibe x = 1, y = 3, debería devolver: 15. (Porque la suma de primero más el tercer argumento es 7 + 8 = 15). Si la función recibe x = 8, y = 9, debería devolver 11. (Porque la suma del octavo más el noveno elemento es 0 + 11 = 11). La función recibirá 2 enteros, devolverá un entero."
   ]
  },
  {
   "cell_type": "code",
   "execution_count": 2,
   "metadata": {},
   "outputs": [
    {
     "name": "stdout",
     "output_type": "stream",
     "text": [
      "11\n"
     ]
    }
   ],
   "source": [
    "serie = [7, 6, 8, 4, 9, 2, 10, 0, 11, -2]\n",
    "resultado = 0\n",
    "\n",
    "def calcular(x,y):\n",
    "    if x <= 0 or y <= 0 or x > len(serie) or y > len(serie):\n",
    "        print(-1)\n",
    "    else:\n",
    "        resultado = serie[x-1] + serie[y-1]\n",
    "        print(resultado)\n",
    "        \n",
    "calcular(8,9)        "
   ]
  },
  {
   "cell_type": "markdown",
   "metadata": {},
   "source": [
    "5.- Mire esta serie: 2, 2, 4, 12, 48, ... la semilla de esta serie fue el número 2. Mire esta serie: 3, 3, 6, 18, 72, ... la semilla de esta serie fue el número 3. Cree una función que reciba dos enteros: x e y. Si alguno de ellos es 0 o negativo, o si son mayores al número de elementos, la función debería devolver -1 La función debe devolver el elemento y de la serie generada por x. Por ejemplo, si la serie recibe x = 3, y = 4, debería devolver 72, porque 72 es el cuarto elemento de la serie generado cuando x = 3. La función recibirá 2 enteros y devolverá un entero."
   ]
  },
  {
   "cell_type": "code",
   "execution_count": 17,
   "metadata": {},
   "outputs": [
    {
     "name": "stdout",
     "output_type": "stream",
     "text": [
      "18\n"
     ]
    }
   ],
   "source": [
    "matriz = [\n",
    "    [1, 1, 2, 6, 24],\n",
    "    [2, 2, 4, 12, 48],\n",
    "    [3, 3, 6, 18, 72]\n",
    "]\n",
    "\n",
    "def buscarXY(x,y):\n",
    "    if x <= 0 or y <= 0 or x > len(matriz) or y >= len(matriz[x-1]):\n",
    "        print(-1)\n",
    "    else:\n",
    "        for item in matriz:\n",
    "            if x == item[0]:\n",
    "                print(item[y])\n",
    "                break\n",
    "\n",
    "buscarXY(3,3)"
   ]
  },
  {
   "cell_type": "markdown",
   "metadata": {},
   "source": [
    "6.- Dadas dos cadenas S1 y S2. Eliminar de S1 todos los caracteres que de S2. Cualquier carácter elimina tanto mayúsculas como minúscula Por ejemplo, dado: S1 = \"La programación es Simplemente genial!\" S2 = \"Estoy aquí! :) \" La función debería devolver: \"Lprgrmciónmplmntginl\". La función recibirá 2 cadenas y devolverá una cadena"
   ]
  },
  {
   "cell_type": "code",
   "execution_count": 9,
   "metadata": {},
   "outputs": [
    {
     "name": "stdout",
     "output_type": "stream",
     "text": [
      "Lprgrmciónimplmngnil\n"
     ]
    }
   ],
   "source": [
    "s1 = 'La programación es Simplemente genial!'\n",
    "s2 = 'Estoy aquí!'\n",
    "\n",
    "def eliminar(cad1,cad2,x,y,resultado):\n",
    "    #comprovar si es mayuscula\n",
    "    dec = ord(cad1[x])\n",
    "    if dec >= 65 and dec <= 90 or dec == 209:\n",
    "        #hacer minuscula\n",
    "        letra = chr(dec + 32)\n",
    "        if letra == cad2[y]:\n",
    "            #siguiente letra en cad1\n",
    "            x += 1\n",
    "            if x == len(cad1):\n",
    "                #fin\n",
    "                print(resultado)\n",
    "            else:\n",
    "                y = 0\n",
    "                eliminar(cad1,cad2,x,y,resultado)\n",
    "        else:\n",
    "            #siguiente letra en cad2\n",
    "            y += 1\n",
    "            if y == len(cad2):\n",
    "                #siguiente letra en cad1\n",
    "                resultado += cad1[x]\n",
    "                x += 1\n",
    "                y = 0\n",
    "                eliminar(cad1,cad2,x,y,resultado)\n",
    "            else:\n",
    "                eliminar(cad1,cad2,x,y,resultado)\n",
    "    elif cad1[x] == cad2[y]:\n",
    "        #siguiente letra en cad1\n",
    "        x += 1\n",
    "        if x == len(cad1):\n",
    "            #fin\n",
    "            print(resultado)\n",
    "        else:\n",
    "            y = 0\n",
    "            eliminar(cad1,cad2,x,y,resultado)\n",
    "    else:\n",
    "        #siguente letra en cad2\n",
    "        y += 1\n",
    "        if y == len(cad2):\n",
    "            #siguiente letra en cad1\n",
    "            resultado += cad1[x]\n",
    "            y = 0\n",
    "            x += 1\n",
    "            eliminar(cad1,cad2,x,y,resultado)\n",
    "        else:\n",
    "            eliminar(cad1,cad2,x,y,resultado)\n",
    "    \n",
    "#comprovar que no sean cadenas vacías o nulas\n",
    "if s1 == '' or s1 == None or s2 == '' or s2 == None:\n",
    "    print('Ingrese dos frases validas')\n",
    "else:\n",
    "    #hacer minusculas todas las letras de s2\n",
    "    frase2 = ''\n",
    "    for letra in s2:\n",
    "        orden = ord(letra)\n",
    "        if orden >= 65 and orden <= 90 or orden == 209:\n",
    "            frase2 += chr(orden + 32)\n",
    "        else:\n",
    "            frase2 += letra\n",
    "    eliminar(s1,frase2,0,0,'')\n",
    "    "
   ]
  },
  {
   "cell_type": "markdown",
   "metadata": {},
   "source": [
    "7.- Su objetivo en este ejercicio es crear un método que cifre la cadena recibida.\n",
    "El método de cifrado es bastante simple:\n",
    "Los caracteres que se encuentran en una posición impar deben reemplazarse con el siguiente carácter del alfabeto, mientras que los caracteres en una posición par, deben reemplazarse con el carácter anterior en el alfabeto. En el caso de Z, se debe ser reemplazado por A, y viceversa. Solo los caracteres [a-z] y [A-Z] deben transformarse (no transformar o considerar caracteres especiales).\n",
    "El primer carácter es impar, el segundo carácter es par, y así sucesivamente.\n",
    "Por ejemplo:\n",
    "El rápido 12345 :) * zzzZZZAAAaaa\n",
    "debe transformarse a:\n",
    "Fk séojcp 12345 :) * yayAYAZBZbzb"
   ]
  },
  {
   "cell_type": "code",
   "execution_count": 8,
   "metadata": {},
   "outputs": [
    {
     "name": "stdout",
     "output_type": "stream",
     "text": [
      "Fk qéojcp 12345 :) * yayAYAZBZbzb\n"
     ]
    }
   ],
   "source": [
    "ejemplo = 'El rápido 12345 :) * zzzZZZAAAaaa'\n",
    "\n",
    "#codificar\n",
    "def codificar(frase):\n",
    "    aux = ''\n",
    "    resultado = ''\n",
    "    for i in range(0,len(frase)):\n",
    "        letra = ord(frase[i])\n",
    "        # Es letra\n",
    "        if letra >= 65 and letra <= 90 or letra >= 97 and letra <= 122:\n",
    "            #Es Impar\n",
    "            if i%2 == 0:\n",
    "                if letra == 90:\n",
    "                    resultado += 'A'\n",
    "                elif letra == 122:\n",
    "                    resultado += 'a'\n",
    "                else:\n",
    "                    resultado += chr(letra + 1)\n",
    "            #Es Par\n",
    "            else:\n",
    "                if letra == 65:\n",
    "                    resultado += 'Z'\n",
    "                elif letra == 97:\n",
    "                    resultado += 'z'\n",
    "                else:\n",
    "                    resultado += chr(letra - 1)\n",
    "        else:\n",
    "            if letra == 32:\n",
    "                resultado += chr(letra)\n",
    "            else:\n",
    "                #Es Impar\n",
    "                if i%2 == 0:\n",
    "                    #Buscar en diccionario\n",
    "                    if caracterEspecial(letra,'impar') == None:\n",
    "                        resultado += chr(letra)\n",
    "                    else:\n",
    "                        resultado += caracterEspecial(letra,'impar')\n",
    "                #Es Par\n",
    "                else:\n",
    "                    #Buscar en diccionario\n",
    "                    if caracterEspecial(letra,'par') == None:\n",
    "                        resultado += chr(letra)\n",
    "                    else:\n",
    "                        resultado += caracterEspecial(letra,'par')\n",
    "                        \n",
    "    print(resultado)\n",
    "                \n",
    "#Diccionario para las tildes\n",
    "def caracterEspecial(numero,posicion):\n",
    "    if posicion == 'par':\n",
    "        cambiar = {\n",
    "            225:'ú',\n",
    "            233:'á',\n",
    "            237:'é',\n",
    "            243:'í',\n",
    "            250:'ó',\n",
    "            193:'Ú',\n",
    "            201:'Á',\n",
    "            205:'É',\n",
    "            211:'Í',\n",
    "            218:'Ó',\n",
    "            241:'n',\n",
    "            209:'N',\n",
    "        }\n",
    "    elif posicion == 'impar':\n",
    "        cambiar = {\n",
    "            225:'é',\n",
    "            233:'í',\n",
    "            237:'ó',\n",
    "            243:'ú',\n",
    "            250:'á',\n",
    "            193:'É',\n",
    "            201:'Í',\n",
    "            205:'Ó',\n",
    "            211:'Ú',\n",
    "            218:'Á',\n",
    "            241:'o',\n",
    "            209:'O',\n",
    "        }\n",
    "    return cambiar.get(numero)\n",
    "\n",
    "#validar\n",
    "if ejemplo == '' or ejemplo == None:\n",
    "    print('Ingrese un texto para codificar')\n",
    "else:\n",
    "    codificar(ejemplo)"
   ]
  },
  {
   "cell_type": "markdown",
   "metadata": {},
   "source": [
    "8.- Dada una cadena que contiene letras (mayúsculas y minúsculas), números y especiales caracteres, devuelven la misma cadena en minúsculas. Por ejemplo, si la función recibe: “Ñañito, QUÉ bien! ESTE es un texto de muestra, Lorem Ipsum, 2 Be Converted \". La función debería devolver: “Ñañito, qué bien! este es un texto de muestra, lorem ipsum, 2 se convertirá \". La función debe considerar la conversión: todos los caracteres de A-Z, Á, É, Í, Ó, Ú y Ñ. Otro\n",
    "\n",
    "Limitación: La conversión debe hacerse teniendo en cuenta los valores ASCII. Obviamente NO PUEDES usar funciones proporcionadas por el lenguaje (toLowercase (), minúsculas (), etc.). NO PUEDES tener un declaración de cambio enorme con casos para cada letra, o muchas declaraciones if / else. Esta función recibirá una cadena y devolverá una cadena"
   ]
  },
  {
   "cell_type": "code",
   "execution_count": 1,
   "metadata": {},
   "outputs": [
    {
     "name": "stdout",
     "output_type": "stream",
     "text": [
      "ñañito, qué bien! este es un texto de muestra, lorem ipsum, 2 se convertirá\n"
     ]
    }
   ],
   "source": [
    "cadena = \"Ñañito, QUÉ bien! este es un TExTo de muestra, lorem ipsum, 2 se convertirá\"\n",
    "\n",
    "def solucion(frase):\n",
    "    if frase == None or frase == '':\n",
    "        print('Ingrese frase')\n",
    "    else:\n",
    "        lower = ''\n",
    "        for item in frase:\n",
    "            order = ord(item)\n",
    "            if order >= 65 and order <= 90 or order == 209 or order == 193 or order == 201 or order == 205 or order == 211 or order == 218: \n",
    "                order += 32\n",
    "                lower += chr(order)\n",
    "            else:\n",
    "                lower += chr(order)\n",
    "        print(lower)\n",
    "        \n",
    "solucion(cadena)"
   ]
  },
  {
   "cell_type": "markdown",
   "metadata": {},
   "source": [
    "9.- Dada dos cadena str1, str2, encuentre en str1 el número de palabras que tiene al str2 (mayúscula o minúscula). No tenga en cuenta las variaciones de caracteres como á, à, etc ... Las palabras siempre están separadas por un espacio, una coma, un punto y coma o un punto. Por ejemplo: Si la función recibe str1: \"este es un texto de muestra,jose;á tiene mucho análisis\" y str2: “Es”. La función devuelve 3, ya que tres palabras tienen caracteres \"es\". (muestra, análisis). La función recibirá dos cadena y devolverá un número entero. Limitaciones: no utilice la función split () o similar."
   ]
  },
  {
   "cell_type": "code",
   "execution_count": 2,
   "metadata": {},
   "outputs": [
    {
     "name": "stdout",
     "output_type": "stream",
     "text": [
      "4\n"
     ]
    }
   ],
   "source": [
    "str1 = \"Este és un texto de muëStra,jose;á à tienes mucho í Ö ù análisis\"\n",
    "str2 = \"es\"\n",
    "resultado = []\n",
    "\n",
    "def contador(cad1, cad2):\n",
    "    if cad1 == '' or cad1 == None or cad2 == '' or cad2 == None:\n",
    "        print('Ingrese datos')\n",
    "    else:\n",
    "        acumulador = []\n",
    "        contador = 0\n",
    "        for item in cad1:\n",
    "            contador += 1\n",
    "            if item == ' ' or item == ',' or item == ';' or item == '.' or contador + 1 == len(cad1):\n",
    "                #buscar str2 en acumulador\n",
    "                buscar(0,0,acumulador,cad2,0,0)\n",
    "                #limpiar\n",
    "                acumulador.clear()\n",
    "                #imprimir resultado\n",
    "                if contador + 1 == len(cad1):\n",
    "                    print(len(resultado))\n",
    "            else:\n",
    "                if item.lower() == 'á' or item.lower() == 'ä' or item.lower() == 'à':\n",
    "                    item = 'a'\n",
    "                if item.lower() == 'é' or item.lower() == 'ë' or item.lower() == 'è':\n",
    "                    item = 'e'\n",
    "                if item.lower() == 'í' or item.lower() == 'ï' or item.lower() == 'ì':\n",
    "                    item = 'i'\n",
    "                if item.lower() == 'ó' or item.lower() == 'ö' or item.lower() == 'ò':\n",
    "                    item = 'o'\n",
    "                if item.lower() == 'ú' or item.lower() == 'ü' or item.lower() == 'ù':\n",
    "                    item = 'u'\n",
    "                acumulador.append(item)\n",
    "                \n",
    "def buscar(x,y,a,b,turno,puntos):\n",
    "    \n",
    "    if len(b) > y and len(a) > x:\n",
    "        if a[x].lower() == b[y].lower():\n",
    "            x += 1\n",
    "            y += 1\n",
    "            turno = 0\n",
    "            puntos += 1\n",
    "            if puntos == len(b):\n",
    "                resultado.append(1)\n",
    "                return\n",
    "            buscar(x,y,a,b,turno,puntos)\n",
    "        else:\n",
    "            turno += 1\n",
    "            y = 0\n",
    "            puntos = 0\n",
    "            if turno == 2:\n",
    "                x += 1\n",
    "                turno = 0\n",
    "            buscar(x,y,a,b,turno,puntos)\n",
    "            \n",
    "contador(str1, str2)"
   ]
  },
  {
   "cell_type": "code",
   "execution_count": null,
   "metadata": {},
   "outputs": [],
   "source": []
  }
 ],
 "metadata": {
  "kernelspec": {
   "display_name": "Python 3",
   "language": "python",
   "name": "python3"
  },
  "language_info": {
   "codemirror_mode": {
    "name": "ipython",
    "version": 3
   },
   "file_extension": ".py",
   "mimetype": "text/x-python",
   "name": "python",
   "nbconvert_exporter": "python",
   "pygments_lexer": "ipython3",
   "version": "3.7.6"
  }
 },
 "nbformat": 4,
 "nbformat_minor": 4
}
